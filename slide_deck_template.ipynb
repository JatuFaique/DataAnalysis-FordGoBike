{
 "cells": [
  {
   "cell_type": "markdown",
   "metadata": {
    "slideshow": {
     "slide_type": "slide"
    }
   },
   "source": [
    "# (Presentation Title)\n",
    "## by (your name here)"
   ]
  },
  {
   "cell_type": "markdown",
   "metadata": {
    "slideshow": {
     "slide_type": "slide"
    }
   },
   "source": [
    "## Investigation Overview\n",
    "\n",
    "> We all have real life experience with Ford GoBike like services and understanding how the system works is interesting to know. This data provides a lot of information about the people renting the bike and the routes.\n",
    "\n",
    "## Dataset Overview\n",
    "\n",
    "> The data set contains the files from 2017 to 2020 till March. The data set contains 15 variables such as startime,endtime,durationsec,station and others. The data 5.8 million rides data. This data set includes information about individual rides made in a bike-sharing system covering the San Francisco Bay area. Our goal as a data analyst, is to increase it's rideship and to offer deals through the mobile app. What deals can be offered? \n",
    ">After reviewing the data, it is evident that the Ford GoBike is focused in the bay area with many people already subscribed to this service. There are others who would like to try this out for once before availing the service.\n",
    "\n",
    ">In a crowded area like Bay Area, people often use such bike services to commute short distances within the city on a regular basis.\n",
    "\n",
    ">Hence, to understand the true use of such service, it is very important to evaluate some basic questions\n",
    "\n",
    ">Listing down the different questions that we would like to answer:\n",
    "\n",
    ">When is the service often used? (weekdays vs. weekends)\n",
    "What is the average ride across different cities? What is the average duration of each ride?\n",
    "Which city has the highest usage of this service?\n",
    "What are the characteristics of Customers vs. Subscribers?\n",
    "Is the 'Bike Share For All program' successful?\n",
    "Which are the famous starting and destination station?\n",
    "Which are the famous routes?\n",
    "What time of the day do users use this service?"
   ]
  },
  {
   "cell_type": "code",
   "execution_count": 18,
   "metadata": {
    "slideshow": {
     "slide_type": "skip"
    }
   },
   "outputs": [],
   "source": [
    "# import all packages and set plots to be embedded inline\n",
    "import numpy as np\n",
    "import pandas as pd\n",
    "import matplotlib.pyplot as plt\n",
    "import seaborn as sb\n",
    "\n",
    "%matplotlib inline\n",
    "\n",
    "# suppress warnings from final output\n",
    "import warnings\n",
    "warnings.simplefilter(\"ignore\");"
   ]
  },
  {
   "cell_type": "code",
   "execution_count": 19,
   "metadata": {
    "slideshow": {
     "slide_type": "skip"
    }
   },
   "outputs": [],
   "source": [
    "# load in the dataset into a pandas dataframe\n",
    "\n",
    "df_2017 = pd.read_csv('2017-fordgobike-tripdata.csv')\n",
    "df_201801 = pd.read_csv('201801-fordgobike-tripdata.csv')\n",
    "df_201802 = pd.read_csv('201802-fordgobike-tripdata.csv')\n",
    "df_201803 = pd.read_csv('201803-fordgobike-tripdata.csv')\n",
    "df_201804 = pd.read_csv('201804-fordgobike-tripdata.csv')\n",
    "df_201805 = pd.read_csv('201805-fordgobike-tripdata.csv')\n",
    "df_201806 = pd.read_csv('201806-fordgobike-tripdata.csv')\n",
    "df_201807 = pd.read_csv('201807-fordgobike-tripdata.csv')\n",
    "df_201808 = pd.read_csv('201808-fordgobike-tripdata.csv')\n",
    "df_201809 = pd.read_csv('201809-fordgobike-tripdata.csv')\n",
    "df_201810 = pd.read_csv('201810-fordgobike-tripdata.csv')\n",
    "df_201811 = pd.read_csv('201811-fordgobike-tripdata.csv')\n",
    "df_201812 = pd.read_csv('201812-fordgobike-tripdata.csv')\n",
    "df_201901 = pd.read_csv('201901-fordgobike-tripdata.csv')\n",
    "df_201902 = pd.read_csv('201902-fordgobike-tripdata.csv')\n",
    "df_201903 = pd.read_csv('201903-fordgobike-tripdata.csv')\n",
    "df_201904 = pd.read_csv('201904-fordgobike-tripdata.csv')\n",
    "df_201905 = pd.read_csv('201905-baywheels-tripdata.csv')\n",
    "df_201906 = pd.read_csv('201906-baywheels-tripdata.csv')\n",
    "df_201907 = pd.read_csv('201907-baywheels-tripdata.csv')\n",
    "df_201908 = pd.read_csv('201908-baywheels-tripdata.csv')\n",
    "df_201909 = pd.read_csv('201909-baywheels-tripdata.csv')\n",
    "df_201910 = pd.read_csv('201910-baywheels-tripdata.csv')\n",
    "df_201911 = pd.read_csv('201911-baywheels-tripdata.csv')\n",
    "df_201912 = pd.read_csv('201912-baywheels-tripdata.csv')\n",
    "df_202001 = pd.read_csv('202001-baywheels-tripdata.csv')\n",
    "df_202002 = pd.read_csv('202002-baywheels-tripdata.csv')\n",
    "df_202003 = pd.read_csv('202003-baywheels-tripdata.csv');"
   ]
  },
  {
   "cell_type": "code",
   "execution_count": 20,
   "metadata": {
    "slideshow": {
     "slide_type": "skip"
    }
   },
   "outputs": [
    {
     "name": "stdout",
     "output_type": "stream",
     "text": [
      "<class 'pandas.core.frame.DataFrame'>\n",
      "RangeIndex: 5795411 entries, 0 to 5795410\n",
      "Data columns (total 15 columns):\n",
      "bike_id                    int64\n",
      "bike_share_for_all_trip    object\n",
      "duration_sec               int64\n",
      "end_station_id             float64\n",
      "end_station_latitude       float64\n",
      "end_station_longitude      float64\n",
      "end_station_name           object\n",
      "end_time                   object\n",
      "rental_access_method       object\n",
      "start_station_id           float64\n",
      "start_station_latitude     float64\n",
      "start_station_longitude    float64\n",
      "start_station_name         object\n",
      "start_time                 object\n",
      "user_type                  object\n",
      "dtypes: float64(6), int64(2), object(7)\n",
      "memory usage: 663.2+ MB\n"
     ]
    },
    {
     "data": {
      "text/plain": [
       "None"
      ]
     },
     "metadata": {},
     "output_type": "display_data"
    }
   ],
   "source": [
    "frames = [df_2017, df_201801, df_201802, df_201803, df_201804, df_201805, df_201806,\n",
    "         df_201807, df_201808, df_201809, df_201810, df_201811, df_201812,\n",
    "         df_201901, df_201902, df_201903, df_201904, df_201905, df_201906,\n",
    "         df_201907, df_201908, df_201909, df_201910, df_201911, df_201912,\n",
    "         df_202001, df_202002, df_202003]\n",
    "df = pd.concat(frames, ignore_index=True)\n",
    "\n",
    "# Check that combined row count is the same as above, and that time period is correct\n",
    "df.shape, df.start_time.min(), df.start_time.max()\n",
    "display(df.info());"
   ]
  },
  {
   "cell_type": "code",
   "execution_count": 21,
   "metadata": {
    "slideshow": {
     "slide_type": "skip"
    }
   },
   "outputs": [],
   "source": [
    "# Create a copy that we can clean without modifying the original data.\n",
    "df_clean = df.copy()\n",
    " #Drop rows where end_time is not greater than start_time\n",
    "df_clean = df_clean[df_clean.end_time > df_clean.start_time]\n",
    "# Change `start_time` and `end_time` data type from string to datetime\n",
    "df_clean['start_time'] = pd.to_datetime(df_clean['start_time'])\n",
    "df_clean['end_time'] = pd.to_datetime(df_clean['end_time']);\n"
   ]
  },
  {
   "cell_type": "code",
   "execution_count": 22,
   "metadata": {
    "slideshow": {
     "slide_type": "skip"
    }
   },
   "outputs": [
    {
     "data": {
      "text/html": [
       "<div>\n",
       "<style scoped>\n",
       "    .dataframe tbody tr th:only-of-type {\n",
       "        vertical-align: middle;\n",
       "    }\n",
       "\n",
       "    .dataframe tbody tr th {\n",
       "        vertical-align: top;\n",
       "    }\n",
       "\n",
       "    .dataframe thead th {\n",
       "        text-align: right;\n",
       "    }\n",
       "</style>\n",
       "<table border=\"1\" class=\"dataframe\">\n",
       "  <thead>\n",
       "    <tr style=\"text-align: right;\">\n",
       "      <th></th>\n",
       "      <th>bike_id</th>\n",
       "      <th>bike_share_for_all_trip</th>\n",
       "      <th>duration_sec</th>\n",
       "      <th>end_station_id</th>\n",
       "      <th>end_station_latitude</th>\n",
       "      <th>end_station_longitude</th>\n",
       "      <th>end_station_name</th>\n",
       "      <th>end_time</th>\n",
       "      <th>rental_access_method</th>\n",
       "      <th>start_station_id</th>\n",
       "      <th>...</th>\n",
       "      <th>start_station_longitude</th>\n",
       "      <th>start_station_name</th>\n",
       "      <th>start_time</th>\n",
       "      <th>user_type</th>\n",
       "      <th>duration_min</th>\n",
       "      <th>yyyy_mm</th>\n",
       "      <th>start_hour</th>\n",
       "      <th>start_dow</th>\n",
       "      <th>month</th>\n",
       "      <th>start_year</th>\n",
       "    </tr>\n",
       "  </thead>\n",
       "  <tbody>\n",
       "    <tr>\n",
       "      <td>0</td>\n",
       "      <td>96</td>\n",
       "      <td>NaN</td>\n",
       "      <td>80110</td>\n",
       "      <td>43.0</td>\n",
       "      <td>37.778768</td>\n",
       "      <td>-122.415929</td>\n",
       "      <td>San Francisco Public Library (Grove St at Hyde...</td>\n",
       "      <td>2018-01-01 15:12:50.245</td>\n",
       "      <td>NaN</td>\n",
       "      <td>74.0</td>\n",
       "      <td>...</td>\n",
       "      <td>-122.426244</td>\n",
       "      <td>Laguna St at Hayes St</td>\n",
       "      <td>2017-12-31 16:57:39.654</td>\n",
       "      <td>Customer</td>\n",
       "      <td>1335</td>\n",
       "      <td>2017-12-01</td>\n",
       "      <td>16</td>\n",
       "      <td>Sunday</td>\n",
       "      <td>12</td>\n",
       "      <td>2017</td>\n",
       "    </tr>\n",
       "    <tr>\n",
       "      <td>1</td>\n",
       "      <td>88</td>\n",
       "      <td>NaN</td>\n",
       "      <td>78800</td>\n",
       "      <td>96.0</td>\n",
       "      <td>37.766210</td>\n",
       "      <td>-122.426614</td>\n",
       "      <td>Dolores St at 15th St</td>\n",
       "      <td>2018-01-01 13:49:55.617</td>\n",
       "      <td>NaN</td>\n",
       "      <td>284.0</td>\n",
       "      <td>...</td>\n",
       "      <td>-122.400876</td>\n",
       "      <td>Yerba Buena Center for the Arts (Howard St at ...</td>\n",
       "      <td>2017-12-31 15:56:34.842</td>\n",
       "      <td>Customer</td>\n",
       "      <td>1313</td>\n",
       "      <td>2017-12-01</td>\n",
       "      <td>15</td>\n",
       "      <td>Sunday</td>\n",
       "      <td>12</td>\n",
       "      <td>2017</td>\n",
       "    </tr>\n",
       "    <tr>\n",
       "      <td>2</td>\n",
       "      <td>1094</td>\n",
       "      <td>NaN</td>\n",
       "      <td>45768</td>\n",
       "      <td>245.0</td>\n",
       "      <td>37.870348</td>\n",
       "      <td>-122.267764</td>\n",
       "      <td>Downtown Berkeley BART</td>\n",
       "      <td>2018-01-01 11:28:36.883</td>\n",
       "      <td>NaN</td>\n",
       "      <td>245.0</td>\n",
       "      <td>...</td>\n",
       "      <td>-122.267764</td>\n",
       "      <td>Downtown Berkeley BART</td>\n",
       "      <td>2017-12-31 22:45:48.411</td>\n",
       "      <td>Customer</td>\n",
       "      <td>762</td>\n",
       "      <td>2017-12-01</td>\n",
       "      <td>22</td>\n",
       "      <td>Sunday</td>\n",
       "      <td>12</td>\n",
       "      <td>2017</td>\n",
       "    </tr>\n",
       "    <tr>\n",
       "      <td>3</td>\n",
       "      <td>2831</td>\n",
       "      <td>NaN</td>\n",
       "      <td>62172</td>\n",
       "      <td>5.0</td>\n",
       "      <td>37.783899</td>\n",
       "      <td>-122.408445</td>\n",
       "      <td>Powell St BART Station (Market St at 5th St)</td>\n",
       "      <td>2018-01-01 10:47:23.531</td>\n",
       "      <td>NaN</td>\n",
       "      <td>60.0</td>\n",
       "      <td>...</td>\n",
       "      <td>-122.409449</td>\n",
       "      <td>8th St at Ringold St</td>\n",
       "      <td>2017-12-31 17:31:10.636</td>\n",
       "      <td>Customer</td>\n",
       "      <td>1036</td>\n",
       "      <td>2017-12-01</td>\n",
       "      <td>17</td>\n",
       "      <td>Sunday</td>\n",
       "      <td>12</td>\n",
       "      <td>2017</td>\n",
       "    </tr>\n",
       "    <tr>\n",
       "      <td>4</td>\n",
       "      <td>3167</td>\n",
       "      <td>NaN</td>\n",
       "      <td>43603</td>\n",
       "      <td>247.0</td>\n",
       "      <td>37.867789</td>\n",
       "      <td>-122.265896</td>\n",
       "      <td>Fulton St at Bancroft Way</td>\n",
       "      <td>2018-01-01 02:29:57.571</td>\n",
       "      <td>NaN</td>\n",
       "      <td>239.0</td>\n",
       "      <td>...</td>\n",
       "      <td>-122.258764</td>\n",
       "      <td>Bancroft Way at Telegraph Ave</td>\n",
       "      <td>2017-12-31 14:23:14.001</td>\n",
       "      <td>Subscriber</td>\n",
       "      <td>726</td>\n",
       "      <td>2017-12-01</td>\n",
       "      <td>14</td>\n",
       "      <td>Sunday</td>\n",
       "      <td>12</td>\n",
       "      <td>2017</td>\n",
       "    </tr>\n",
       "  </tbody>\n",
       "</table>\n",
       "<p>5 rows × 21 columns</p>\n",
       "</div>"
      ],
      "text/plain": [
       "   bike_id bike_share_for_all_trip  duration_sec  end_station_id  \\\n",
       "0       96                     NaN         80110            43.0   \n",
       "1       88                     NaN         78800            96.0   \n",
       "2     1094                     NaN         45768           245.0   \n",
       "3     2831                     NaN         62172             5.0   \n",
       "4     3167                     NaN         43603           247.0   \n",
       "\n",
       "   end_station_latitude  end_station_longitude  \\\n",
       "0             37.778768            -122.415929   \n",
       "1             37.766210            -122.426614   \n",
       "2             37.870348            -122.267764   \n",
       "3             37.783899            -122.408445   \n",
       "4             37.867789            -122.265896   \n",
       "\n",
       "                                    end_station_name                end_time  \\\n",
       "0  San Francisco Public Library (Grove St at Hyde... 2018-01-01 15:12:50.245   \n",
       "1                              Dolores St at 15th St 2018-01-01 13:49:55.617   \n",
       "2                             Downtown Berkeley BART 2018-01-01 11:28:36.883   \n",
       "3       Powell St BART Station (Market St at 5th St) 2018-01-01 10:47:23.531   \n",
       "4                          Fulton St at Bancroft Way 2018-01-01 02:29:57.571   \n",
       "\n",
       "  rental_access_method  start_station_id  ...  start_station_longitude  \\\n",
       "0                  NaN              74.0  ...              -122.426244   \n",
       "1                  NaN             284.0  ...              -122.400876   \n",
       "2                  NaN             245.0  ...              -122.267764   \n",
       "3                  NaN              60.0  ...              -122.409449   \n",
       "4                  NaN             239.0  ...              -122.258764   \n",
       "\n",
       "                                  start_station_name              start_time  \\\n",
       "0                              Laguna St at Hayes St 2017-12-31 16:57:39.654   \n",
       "1  Yerba Buena Center for the Arts (Howard St at ... 2017-12-31 15:56:34.842   \n",
       "2                             Downtown Berkeley BART 2017-12-31 22:45:48.411   \n",
       "3                               8th St at Ringold St 2017-12-31 17:31:10.636   \n",
       "4                      Bancroft Way at Telegraph Ave 2017-12-31 14:23:14.001   \n",
       "\n",
       "    user_type duration_min    yyyy_mm start_hour  start_dow month  start_year  \n",
       "0    Customer         1335 2017-12-01         16     Sunday    12        2017  \n",
       "1    Customer         1313 2017-12-01         15     Sunday    12        2017  \n",
       "2    Customer          762 2017-12-01         22     Sunday    12        2017  \n",
       "3    Customer         1036 2017-12-01         17     Sunday    12        2017  \n",
       "4  Subscriber          726 2017-12-01         14     Sunday    12        2017  \n",
       "\n",
       "[5 rows x 21 columns]"
      ]
     },
     "metadata": {},
     "output_type": "display_data"
    },
    {
     "name": "stdout",
     "output_type": "stream",
     "text": [
      "<class 'pandas.core.frame.DataFrame'>\n",
      "Int64Index: 5795393 entries, 0 to 5795410\n",
      "Data columns (total 21 columns):\n",
      "bike_id                    int64\n",
      "bike_share_for_all_trip    object\n",
      "duration_sec               int64\n",
      "end_station_id             float64\n",
      "end_station_latitude       float64\n",
      "end_station_longitude      float64\n",
      "end_station_name           object\n",
      "end_time                   datetime64[ns]\n",
      "rental_access_method       object\n",
      "start_station_id           float64\n",
      "start_station_latitude     float64\n",
      "start_station_longitude    float64\n",
      "start_station_name         object\n",
      "start_time                 datetime64[ns]\n",
      "user_type                  object\n",
      "duration_min               int32\n",
      "yyyy_mm                    datetime64[ns]\n",
      "start_hour                 int64\n",
      "start_dow                  object\n",
      "month                      int64\n",
      "start_year                 int64\n",
      "dtypes: datetime64[ns](3), float64(6), int32(1), int64(5), object(6)\n",
      "memory usage: 950.6+ MB\n"
     ]
    },
    {
     "data": {
      "text/plain": [
       "None"
      ]
     },
     "metadata": {},
     "output_type": "display_data"
    }
   ],
   "source": [
    "#Add new columns Here we derive a few new columns for our analysis later\n",
    "# Create duration_min column for duration in minutes instead of seconds\n",
    "df_clean['duration_min'] = (df_clean.end_time - df_clean.start_time).astype('timedelta64[m]').astype(int)\n",
    "\n",
    "# Create yyyy_mm column\n",
    "df_clean['yyyy_mm'] = df_clean.start_time.astype('<M8[M]')\n",
    "\n",
    "# Create start_hour column\n",
    "df_clean['start_hour'] = df_clean.start_time.dt.hour\n",
    "\n",
    "# Create start_dow column\n",
    "df_clean['start_dow'] = df_clean.start_time.dt.day_name()\n",
    "\n",
    "# Create start_month column\n",
    "df_clean['month'] = df_clean.start_time.dt.month\n",
    "\n",
    "# Create start_year column\n",
    "\n",
    "df_clean['start_year'] = df_clean.start_time.dt.year\n",
    "\n",
    "\n",
    "# Verify changes\n",
    "display(df_clean.head())\n",
    "display(df_clean.info());"
   ]
  },
  {
   "cell_type": "markdown",
   "metadata": {
    "slideshow": {
     "slide_type": "notes"
    }
   },
   "source": [
    "> Note that the above cells have been set as \"Skip\"-type slides. That means\n",
    "that when the notebook is rendered as http slides, those cells won't show up."
   ]
  },
  {
   "cell_type": "markdown",
   "metadata": {
    "slideshow": {
     "slide_type": "slide"
    }
   },
   "source": [
    "## Popular station based on the duration of the rides\n",
    "> "
   ]
  },
  {
   "cell_type": "code",
   "execution_count": 23,
   "metadata": {
    "slideshow": {
     "slide_type": "skip"
    }
   },
   "outputs": [],
   "source": [
    "\n",
    "#Creating a df for a most used station based on total rides duration occured\n",
    "#for Start station\n",
    "g = df_clean.groupby(['start_station_id'])['duration_min'].sum().reset_index()\n",
    "g = g.sort_values(by ='duration_min' ,ascending = False).head()\n",
    "g.drop_duplicates()\n",
    "#for end stations\n",
    "j = df_clean.groupby(['end_station_id'])['duration_min'].sum().reset_index()\n",
    "j = j.sort_values(by = 'duration_min' ,ascending = False).head()\n",
    "j.drop_duplicates();"
   ]
  },
  {
   "cell_type": "code",
   "execution_count": 24,
   "metadata": {
    "slideshow": {
     "slide_type": "skip"
    }
   },
   "outputs": [],
   "source": [
    "\n",
    "#for start station merging the station name based on station id from above frame\n",
    "\n",
    "\n",
    "k = df_clean['start_station_name']\n",
    "k.to_frame()\n",
    "k.drop_duplicates()\n",
    "strt_id_name = g.join(k)\n",
    "strt_id_name\n",
    "\n",
    "#for end station\n",
    "\n",
    "i = df_clean['end_station_name']\n",
    "i.to_frame()\n",
    "i.drop_duplicates()\n",
    "end_id_name = j.join(i)\n",
    "end_id_name;"
   ]
  },
  {
   "cell_type": "code",
   "execution_count": 25,
   "metadata": {
    "slideshow": {
     "slide_type": "slide"
    }
   },
   "outputs": [
    {
     "data": {
      "image/png": "[encoded data removed]",
      "text/plain": [
       "<Figure size 1080x360 with 2 Axes>"
      ]
     },
     "metadata": {
      "needs_background": "light"
     },
     "output_type": "display_data"
    }
   ],
   "source": [
    "\n",
    "fig = plt.figure(figsize=[15,5])\n",
    "fig.suptitle(\"Start - End stations over total duration of rides\")\n",
    "#plt.subplot_adjust(hspace = 0.5)\n",
    "\n",
    "plt.subplot(1,2,1)\n",
    "#df.start_station_id.nunique()\n",
    "#total_dur = df_clean.groupby('start_station_name').size().sort_values(ascending = False).head()\n",
    "#total_dur = total_dur.reset_index(name = 'duration_min')\n",
    "g=sb.barplot(data = strt_id_name, x = 'start_station_name',y='duration_min');\n",
    "g.set_title('Most popular start stations based on total duration')\n",
    "g.set_ylabel('Duration')\n",
    "g.set_xlabel('start_station_name');\n",
    "plt.xticks(rotation=90);\n",
    "\n",
    "plt.subplot(1,2,2)\n",
    "#df.end_station_id.nunique()\n",
    "#total_dur = df_clean.groupby('end_station_id').size().sort_values(ascending = False).head()\n",
    "#total_dur = total_dur.reset_index(name = 'duration_min')\n",
    "g=sb.barplot(data = end_id_name, x = 'end_station_id',y='duration_min');\n",
    "g=sb.barplot(data = strt_id_name, x = 'start_station_name',y='duration_min');\n",
    "g.set_title('Most popular end stations based on total duration')\n",
    "g.set_ylabel('Duration')\n",
    "g.set_xlabel('end_station_name');\n",
    "plt.xticks(rotation=90);\n",
    "\n",
    "\n",
    "\n",
    "\n",
    "\n"
   ]
  },
  {
   "cell_type": "markdown",
   "metadata": {
    "slideshow": {
     "slide_type": "subslide"
    }
   },
   "source": [
    "> It is clear from the above graph that the station San Francisco California Station 2 is more popular station than Market Street at 10th st based on the Duartion of the rides by the users\n",
    ">Similarly it also shows that the station 8th St at Ringold St is seen to be a more popular station based on the longer duartion of the rides ending here."
   ]
  },
  {
   "cell_type": "markdown",
   "metadata": {
    "collapsed": true,
    "slideshow": {
     "slide_type": "slide"
    }
   },
   "source": [
    "## Year wise distribution of bike renting among subscriber vs customer\n",
    "\n",
    "> Here we are trying to analyse the behaviour of the user over the past 2 years on monthly basis, therefor here we exclude the 2017 data as it contains less information as well as 2020 data which only have information for few months only"
   ]
  },
  {
   "cell_type": "code",
   "execution_count": 26,
   "metadata": {
    "slideshow": {
     "slide_type": "skip"
    }
   },
   "outputs": [],
   "source": [
    "df_yr = df_clean.query('start_year != 2017 and start_year != 2020')\n",
    "#df_yr\n",
    "df_2018 = df_yr.query('start_year == 2018')\n",
    "df_2019 = df_yr.query('start_year == 2019');"
   ]
  },
  {
   "cell_type": "code",
   "execution_count": 27,
   "metadata": {
    "slideshow": {
     "slide_type": "slide"
    }
   },
   "outputs": [
    {
     "data": {
      "image/png": "[encoded data removed]",
      "text/plain": [
       "<Figure size 1080x576 with 2 Axes>"
      ]
     },
     "metadata": {
      "needs_background": "light"
     },
     "output_type": "display_data"
    }
   ],
   "source": [
    "\n",
    "fig = plt.figure(figsize=[15,8])\n",
    "fig.suptitle(\"Year wise distribution of bike renting among subscriber vs customer\")\n",
    "plt.subplot(1,2,1)\n",
    "ax = sb.countplot(data = df_2018, \n",
    "             x = 'month',hue = 'user_type',\n",
    "             color = sb.color_palette()[1]);\n",
    "plt.title(\"2018\")\n",
    "plt.xlabel('Month', labelpad=16)\n",
    "plt.ylabel('No of bikes rented', labelpad=16)\n",
    "\n",
    "plt.subplot(1,2,2)\n",
    "ax = sb.countplot(data = df_2019, \n",
    "             x = 'month',hue = 'user_type',\n",
    "             color = sb.color_palette()[1]);\n",
    "plt.title(\"2019\")\n",
    "plt.xlabel('Month', labelpad=16)\n",
    "plt.ylabel('No of bikes rented', labelpad=16);"
   ]
  },
  {
   "cell_type": "markdown",
   "metadata": {
    "slideshow": {
     "slide_type": "subslide"
    }
   },
   "source": [
    ">The bike usage trend of the customers vs subribers appears to be same throught the year altough that treend is seen to changing as we can see that the usage of bike is seen rising in the last quarter of the 2019 and so is the number of one time customers "
   ]
  },
  {
   "cell_type": "markdown",
   "metadata": {
    "slideshow": {
     "slide_type": "slide"
    }
   },
   "source": [
    "## Day of the week and rides among user type\n",
    "\n",
    ">The Year wise reflection of the behavior of user type as per Day of the week\n"
   ]
  },
  {
   "cell_type": "code",
   "execution_count": 28,
   "metadata": {
    "slideshow": {
     "slide_type": "slide"
    }
   },
   "outputs": [
    {
     "data": {
      "image/png": "[encoded data removed]",
      "text/plain": [
       "<Figure size 1080x576 with 2 Axes>"
      ]
     },
     "metadata": {
      "needs_background": "light"
     },
     "output_type": "display_data"
    }
   ],
   "source": [
    "fig = plt.figure(figsize=(15, 8))\n",
    "fig.suptitle(\"Day of the week and rides among user type\")\n",
    "plt.subplot(1,2,1)\n",
    "b=sb.countplot(data = df_2018, x = 'start_dow',hue='user_type',order=[\"Monday\", \"Tuesday\",\"Wednesday\",\"Thursday\",\n",
    "                                                                                  \"Friday\",\"Saturday\",\"Sunday\"]);\n",
    "b.set_title('Rides amount per month seperated by rides length 2018')\n",
    "b.set_ylabel('Rides')\n",
    "b.set_xlabel('Day')\n",
    "plt.xticks(rotation=90)\n",
    "\n",
    "plt.subplot(1,2,2)\n",
    "b=sb.countplot(data = df_2019, x = 'start_dow',hue='user_type',order=[\"Monday\", \"Tuesday\",\"Wednesday\",\"Thursday\",\n",
    "                                                                                  \"Friday\",\"Saturday\",\"Sunday\"]);\n",
    "b.set_title('Rides amount per month seperated by rides length 2019')\n",
    "b.set_ylabel('Rides')\n",
    "b.set_xlabel('Day')\n",
    "plt.xticks(rotation=90);"
   ]
  },
  {
   "cell_type": "markdown",
   "metadata": {
    "slideshow": {
     "slide_type": "subslide"
    }
   },
   "source": [
    ">Here we can see that altough the rider count of the subscribers are very large than the one time users but here we can see that the count for one time customers has increased in the weekdays as the customers tend to grow."
   ]
  },
  {
   "cell_type": "markdown",
   "metadata": {
    "slideshow": {
     "slide_type": "notes"
    }
   },
   "source": [
    "> Once you're ready to finish your presentation, check your output by using\n",
    "nbconvert to export the notebook and set up a server for the slides. From the\n",
    "terminal or command line, use the following expression:\n",
    "> > `jupyter nbconvert <file_name>.ipynb --to slides --post serve --template output_toggle`\n",
    "\n",
    "> This should open a tab in your web browser where you can scroll through your\n",
    "presentation. Sub-slides can be accessed by pressing 'down' when viewing its parent\n",
    "slide. Make sure you remove all of the quote-formatted guide notes like this one\n",
    "before you finish your presentation!"
   ]
  },
  {
   "cell_type": "code",
   "execution_count": null,
   "metadata": {},
   "outputs": [],
   "source": []
  }
 ],
 "metadata": {
  "celltoolbar": "Slideshow",
  "kernelspec": {
   "display_name": "Python 3",
   "language": "python",
   "name": "python3"
  },
  "language_info": {
   "codemirror_mode": {
    "name": "ipython",
    "version": 3
   },
   "file_extension": ".py",
   "mimetype": "text/x-python",
   "name": "python",
   "nbconvert_exporter": "python",
   "pygments_lexer": "ipython3",
   "version": "3.7.4"
  }
 },
 "nbformat": 4,
 "nbformat_minor": 2
}
